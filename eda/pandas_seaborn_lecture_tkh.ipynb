{
 "cells": [
  {
   "cell_type": "markdown",
   "metadata": {},
   "source": [
    "## Exploratory Data Analysis in Python\n",
    "\n",
    "Using Python there are three main plotting tools:\n",
    "\n",
    "* **Pandas** : for quick plotting on the fly with Pandas data frames and series\n",
    "* **Matplotlib** : the primary visualization tool in Python\n",
    "* **Seaborn** : wrapper for matplotlib, less flexible but often prettier than matplotlib\n",
    "* **Bokeh** : python library that allows for interactive plots in web browsers\n",
    "* **Plotly** : another tool for generating interactive plots and can use Python and other common languages\n",
    "\n",
    "Two plotting libraries outside Python that are popular among data scientists include:\n",
    "\n",
    "* **ggplot2** and **shiny** (R)\n",
    "* **D3** (JavaScript)\n",
    "\n",
    "The purpose of these notes is to demonstrate the funcionality of the Python libraries. We can begin by importing the necessary libraries."
   ]
  },
  {
   "cell_type": "code",
   "execution_count": null,
   "metadata": {
    "collapsed": false
   },
   "outputs": [],
   "source": [
    "import pandas as pd\n",
    "import numpy as np\n",
    "import matplotlib.pyplot as plt\n",
    "import seaborn as sns\n",
    "%matplotlib inline"
   ]
  },
  {
   "cell_type": "code",
   "execution_count": null,
   "metadata": {
    "collapsed": false
   },
   "outputs": [],
   "source": [
    "df = pd.read_csv(\"../data/playgolf.csv\", delimiter='|')\n",
    "df.rename(columns=lambda x: x.lower(), inplace=True)\n",
    "print df.head()"
   ]
  },
  {
   "cell_type": "code",
   "execution_count": null,
   "metadata": {
    "collapsed": false,
    "scrolled": true
   },
   "outputs": [],
   "source": [
    "df.info()"
   ]
  },
  {
   "cell_type": "code",
   "execution_count": null,
   "metadata": {
    "collapsed": false
   },
   "outputs": [],
   "source": [
    "df['date'] = pd.to_datetime(df['date'])\n",
    "df['date']"
   ]
  },
  {
   "cell_type": "code",
   "execution_count": null,
   "metadata": {
    "collapsed": false
   },
   "outputs": [],
   "source": [
    "df2 = df.set_index(\"date\")\n",
    "print df2.head()"
   ]
  },
  {
   "cell_type": "markdown",
   "metadata": {},
   "source": [
    "## Plotting with pandas\n",
    "\n",
    "### What is the distribution of temperatures? (Univariate, Quantitative)"
   ]
  },
  {
   "cell_type": "code",
   "execution_count": null,
   "metadata": {
    "collapsed": false
   },
   "outputs": [],
   "source": [
    "df['temperature'].hist(bins=10, figsize=(8,6));"
   ]
  },
  {
   "cell_type": "markdown",
   "metadata": {},
   "source": [
    "### What is the change in temperature over time? (Univariate, Quantitative)"
   ]
  },
  {
   "cell_type": "code",
   "execution_count": null,
   "metadata": {
    "collapsed": false
   },
   "outputs": [],
   "source": [
    "df.set_index(\"date\",inplace=True)\n",
    "print df.head()"
   ]
  },
  {
   "cell_type": "code",
   "execution_count": null,
   "metadata": {
    "collapsed": false
   },
   "outputs": [],
   "source": [
    "df['temperature'].plot(figsize=(15,6), marker='o')\n",
    "plt.title(\"Temperature Over 2 Weeks\", size=20)\n",
    "plt.xlabel(\"Time\", size=15)\n",
    "plt.ylabel(\"Temperature\", size=15)\n",
    "plt.tick_params(labelsize=10);"
   ]
  },
  {
   "cell_type": "code",
   "execution_count": null,
   "metadata": {
    "collapsed": false
   },
   "outputs": [],
   "source": [
    "df[['temperature','humidity']].plot(figsize=(15,6), marker='o')\n",
    "plt.title(\"Temperature and Humidity Over 2 Weeks\", size=20)\n",
    "plt.xlabel(\"Time\", size=15)\n",
    "plt.ylabel(\"Degrees\", size=15);"
   ]
  },
  {
   "cell_type": "markdown",
   "metadata": {},
   "source": [
    "### What is the difference between the distributions between temperature and humidity? (Bivariate, 2 Quantitative)"
   ]
  },
  {
   "cell_type": "code",
   "execution_count": null,
   "metadata": {
    "collapsed": false
   },
   "outputs": [],
   "source": [
    "df[['temperature','humidity']].plot(kind='box',sym='k.', showfliers=True, figsize=(8,6))\n",
    "plt.title(\"Boxplots of Temperature and Humidity\", size=20)\n",
    "plt.ylabel(\"Degrees\", size=15)\n",
    "plt.xlabel(\"Weather Metrics\", size=15);\n",
    "plt.ylim([0,170])"
   ]
  },
  {
   "cell_type": "markdown",
   "metadata": {},
   "source": [
    "### What is the daily difference in temperature and humidity? (Bivariate, 2 Quantitative)"
   ]
  },
  {
   "cell_type": "code",
   "execution_count": null,
   "metadata": {
    "collapsed": false
   },
   "outputs": [],
   "source": [
    "df[['temperature','humidity']].plot(kind='barh', figsize=(15,10))\n",
    "plt.title(\"Comparison of Temperature and Humidity\", size=20)\n",
    "plt.xlabel(\"Degrees\", size=15)\n",
    "plt.ylabel(\"Time\", size=15);"
   ]
  },
  {
   "cell_type": "markdown",
   "metadata": {},
   "source": [
    "### What is the difference in mean temperature for different outlooks? (Bivariate, 1 Quantitative, 1 Categorical)"
   ]
  },
  {
   "cell_type": "code",
   "execution_count": null,
   "metadata": {
    "collapsed": false
   },
   "outputs": [],
   "source": [
    "df2.head()"
   ]
  },
  {
   "cell_type": "code",
   "execution_count": null,
   "metadata": {
    "collapsed": false
   },
   "outputs": [],
   "source": [
    "df2 = df.groupby(\"outlook\").mean()\n",
    "df2.plot(x=df2.index,y='temperature', kind='barh', figsize=(8,6), legend=None);\n",
    "plt.title(\"Mean Temperature Differences For Different Outlooks\", size=20)\n",
    "plt.xlabel(\"Temperature\", size=15)\n",
    "plt.ylabel(\"Outlook\", size=15);"
   ]
  },
  {
   "cell_type": "markdown",
   "metadata": {},
   "source": [
    "### What is the count of times players play/don't play golf based on the outlook?"
   ]
  },
  {
   "cell_type": "code",
   "execution_count": null,
   "metadata": {
    "collapsed": false,
    "scrolled": false
   },
   "outputs": [],
   "source": [
    "df.groupby(['outlook','result']).size().plot(kind='bar', figsize=(8,6))\n",
    "plt.title(\"Counts by Outlook and Result\", size=18)\n",
    "plt.xlabel(\"Outlook and Windiness\", size=15)\n",
    "plt.ylabel(\"Count\", size=15)\n",
    "plt.xticks(rotation=0)\n",
    "plt.tight_layout();"
   ]
  },
  {
   "cell_type": "markdown",
   "metadata": {},
   "source": [
    "### What is the relationship between temperature and humidity? (Bivariate/ 2 Quantitative)"
   ]
  },
  {
   "cell_type": "code",
   "execution_count": null,
   "metadata": {
    "collapsed": false,
    "scrolled": true
   },
   "outputs": [],
   "source": [
    "df.plot(x='temperature',y='humidity', kind='scatter', figsize=(8,6))\n",
    "plt.title(\"Scatterplot of Temperature and Humidity\", size=18)\n",
    "plt.xlabel(\"Temperature\", size=15)\n",
    "plt.ylabel(\"Outlook\", size=15);"
   ]
  },
  {
   "cell_type": "markdown",
   "metadata": {},
   "source": [
    "## Plot with matplotlib\n",
    "- Both Pandas and Seaborn are wrappers on Matplotlib. The plotting functionality in those libraries is intended to make producing plots much more efficient. They do this, but at the expense of some flexibility and the potential for customization.\n",
    "- Even if we only intend to use Matplotlib tools for plotting, we can immediately improve the look of our plots by simply importing Seaborn. When we import Seaborn, the Matplotlib defaults for plot appearance are overwritten, which is generally a good thing in our experience.\n",
    "- When working with Pandas data structures (data frames, series) in Matplotlib, you will sometimes run into trouble. As a result, it is good practice to always extract the underlying array(s) using the `values` attribute, which is done throughout this demo.\n",
    "- The convention is to import Matplotlib as follows: `import matplotlib.pyplot as plt`. As a result, you will almost always see Matplotlib methods used on `plt`, or else on objects pulled from the `plt` object, such as axes. We will see examples of both below.\n",
    "- Figures in Matplotlib often take several lines of code, especially as you begin to get comfortable with the full spectrum of its functionality. As a result, when you set out to make a plot, it is recommended to start simple and add features one at a time, ensuring that the result is what you expect, otherwise it can be difficult to debug. "
   ]
  },
  {
   "cell_type": "markdown",
   "metadata": {},
   "source": [
    "### What is the relationship between Temperature/Humidity and their result?"
   ]
  },
  {
   "cell_type": "code",
   "execution_count": null,
   "metadata": {
    "collapsed": false
   },
   "outputs": [],
   "source": [
    "play = df['result'] == 'Play'\n",
    "fig, ax = plt.subplots(1, 2, sharex=True, sharey=True, figsize=(12, 6))\n",
    "ax[0].scatter(df['temperature'].values, df['humidity'].values, color='k')\n",
    "ax[0].set_xlabel('Temperature', fontsize=14)\n",
    "ax[0].set_ylabel('Humidity', fontsize=14)\n",
    "ax[1].scatter(df['temperature'][play].values, df['humidity'][play].values, \n",
    "              color='g', label='Play')\n",
    "ax[1].scatter(df['temperature'][~play].values, df['humidity'][~play].values, \n",
    "              color='r', label=\"Don't Play\")\n",
    "ax[1].set_xlabel('Temperature', fontsize=14, labelpad=12)\n",
    "ax[1].legend(loc='best', fontsize=14)\n",
    "fig.suptitle('Temperature Against Humidity', fontsize=18, y=1.03)\n",
    "fig.tight_layout(); "
   ]
  },
  {
   "cell_type": "code",
   "execution_count": null,
   "metadata": {
    "collapsed": false
   },
   "outputs": [],
   "source": [
    "crimes = pd.read_csv(\"../data/crime.csv\")\n",
    "print crimes.head()"
   ]
  },
  {
   "cell_type": "markdown",
   "metadata": {},
   "source": [
    "### What is distribution for each crime?"
   ]
  },
  {
   "cell_type": "code",
   "execution_count": null,
   "metadata": {
    "collapsed": false
   },
   "outputs": [],
   "source": [
    "column_names = crimes.columns[1:]\n",
    "fig, axs = plt.subplots(4,2, figsize=(10,15))\n",
    "for i,ax in enumerate(axs.reshape(-1)[:-1]):\n",
    "    ax.set_title(column_names[i])\n",
    "    ax.hist(crimes[column_names[i]].values)\n",
    "fig.delaxes(axs.reshape(-1)[-1])\n",
    "fig.suptitle(\"Crime Distributions\", y=1.02, fontsize=20)\n",
    "fig.text(-0.03, 0.5, 'Frequency', fontsize=18, va='center', rotation='vertical')\n",
    "fig.tight_layout();"
   ]
  },
  {
   "cell_type": "code",
   "execution_count": null,
   "metadata": {
    "collapsed": false
   },
   "outputs": [],
   "source": [
    "crimes.hist(figsize=(15,10));"
   ]
  },
  {
   "cell_type": "markdown",
   "metadata": {},
   "source": [
    "### Scatterplot matrix of all crimes"
   ]
  },
  {
   "cell_type": "code",
   "execution_count": null,
   "metadata": {
    "collapsed": false
   },
   "outputs": [],
   "source": [
    "pd.scatter_matrix(crimes, figsize=(20,20));"
   ]
  },
  {
   "cell_type": "markdown",
   "metadata": {},
   "source": [
    "## Plot with Seaborn"
   ]
  },
  {
   "cell_type": "markdown",
   "metadata": {},
   "source": [
    "### Scatterplot matrix of golf features with result as third variable"
   ]
  },
  {
   "cell_type": "code",
   "execution_count": null,
   "metadata": {
    "collapsed": false
   },
   "outputs": [],
   "source": [
    "sns.set_style('whitegrid')\n",
    "sns.pairplot(df, hue='result', size=4);"
   ]
  },
  {
   "cell_type": "markdown",
   "metadata": {},
   "source": [
    "### Distribution plot of MVT (with kernel density estimate)"
   ]
  },
  {
   "cell_type": "code",
   "execution_count": null,
   "metadata": {
    "collapsed": false
   },
   "outputs": [],
   "source": [
    "plt.figure(figsize=(8,6))\n",
    "mvt = sns.distplot(crimes['Motor Vehicle Theft'])"
   ]
  },
  {
   "cell_type": "markdown",
   "metadata": {},
   "source": [
    "### Distributions of all crimes with boxplots"
   ]
  },
  {
   "cell_type": "code",
   "execution_count": null,
   "metadata": {
    "collapsed": false
   },
   "outputs": [],
   "source": [
    "plt.figure(figsize=(8,6))\n",
    "sns.boxplot(crimes, orient='h');"
   ]
  },
  {
   "cell_type": "markdown",
   "metadata": {},
   "source": [
    "### Heatmap of correlations of all crimes"
   ]
  },
  {
   "cell_type": "code",
   "execution_count": null,
   "metadata": {
    "collapsed": false
   },
   "outputs": [],
   "source": [
    "plt.figure(figsize=(12,10))\n",
    "sns.heatmap(crimes.corr(), annot=True, linewidth=0.2, cmap='RdYlBu')\n",
    "plt.tight_layout()"
   ]
  },
  {
   "cell_type": "markdown",
   "metadata": {},
   "source": [
    "## Plot with Bokeh"
   ]
  },
  {
   "cell_type": "code",
   "execution_count": null,
   "metadata": {
    "collapsed": false
   },
   "outputs": [],
   "source": [
    "from bokeh.plotting import figure, show\n",
    "from bokeh.io import output_notebook\n",
    "import bokeh\n",
    "print 'my bokeh version', bokeh.__version__\n",
    "output_notebook()"
   ]
  },
  {
   "cell_type": "code",
   "execution_count": null,
   "metadata": {
    "collapsed": false
   },
   "outputs": [],
   "source": [
    "p = figure(plot_width=400, plot_height=400, title=\"Scatterplot of Temperature and Humidity\",title_text_font_size=\"15pt\")\n",
    "\n",
    "# add a circle renderer with a size, color, and alpha\n",
    "p.circle(df['temperature'].values, df['humidity'].values, size=5, color=\"navy\", alpha=0.9)\n",
    "p.yaxis.axis_label = 'Humidity'\n",
    "p.xaxis.axis_label = 'Temperature'\n",
    "show(p)"
   ]
  },
  {
   "cell_type": "code",
   "execution_count": null,
   "metadata": {
    "collapsed": false
   },
   "outputs": [],
   "source": [
    "p2 = figure(plot_width=600, plot_height=400, x_axis_type=\"datetime\")\n",
    "\n",
    "# add a line renderer\n",
    "p2.line(df.index.values, df['temperature'].values, line_width=2)\n",
    "p2.yaxis.axis_label = 'Temperature'\n",
    "p2.xaxis.axis_label = 'Time'\n",
    "show(p2)"
   ]
  },
  {
   "cell_type": "markdown",
   "metadata": {},
   "source": [
    "## Plot with Plotly"
   ]
  },
  {
   "cell_type": "code",
   "execution_count": null,
   "metadata": {
    "collapsed": false
   },
   "outputs": [],
   "source": [
    "# ! pip install plotly --upgrade\n",
    "\n",
    "from plotly import __version__\n",
    "from plotly.offline import init_notebook_mode, iplot\n",
    "from plotly.graph_objs import Scatter, Layout, XAxis, YAxis\n",
    "print __version__ # requires version >= 1.9.0\n",
    "init_notebook_mode()"
   ]
  },
  {
   "cell_type": "code",
   "execution_count": null,
   "metadata": {
    "collapsed": false
   },
   "outputs": [],
   "source": [
    "iplot({\"data\": [Scatter(x=df.index.date, \n",
    "                        y=df['temperature'].values)],\n",
    "       \"layout\": Layout(title=\"Changes Temperature Over Time\",\n",
    "                        xaxis=XAxis(title=\"Time\"),\n",
    "                        yaxis=YAxis(title=\"Temperature\"))})"
   ]
  },
  {
   "cell_type": "code",
   "execution_count": null,
   "metadata": {
    "collapsed": false
   },
   "outputs": [],
   "source": [
    "iplot({\"data\": [Scatter(x=df['temperature'].values, \n",
    "                        y=df['humidity'].values,\n",
    "                       mode='markers')],\n",
    "       \"layout\": Layout(title=\"Scatterplot of Temperature and Humidity\",\n",
    "                        xaxis=XAxis(title=\"Temperature\"),\n",
    "                        yaxis=YAxis(title=\"Humidity\"))})"
   ]
  }
 ],
 "metadata": {
  "kernelspec": {
   "display_name": "Python 2",
   "language": "python",
   "name": "python2"
  },
  "language_info": {
   "codemirror_mode": {
    "name": "ipython",
    "version": 2
   },
   "file_extension": ".py",
   "mimetype": "text/x-python",
   "name": "python",
   "nbconvert_exporter": "python",
   "pygments_lexer": "ipython2",
   "version": "2.7.11"
  }
 },
 "nbformat": 4,
 "nbformat_minor": 0
}
